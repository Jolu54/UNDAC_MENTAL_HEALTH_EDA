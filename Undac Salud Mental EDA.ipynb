{
 "cells": [
  {
   "cell_type": "code",
   "execution_count": 1,
   "id": "a052666b",
   "metadata": {},
   "outputs": [],
   "source": [
    "import pandas as pd \n",
    "import numpy as np\n",
    "import seaborn as sns\n",
    "import matplotlib.pyplot as plt"
   ]
  },
  {
   "cell_type": "code",
   "execution_count": 4,
   "id": "b354ae9a",
   "metadata": {},
   "outputs": [
    {
     "data": {
      "text/html": [
       "<div>\n",
       "<style scoped>\n",
       "    .dataframe tbody tr th:only-of-type {\n",
       "        vertical-align: middle;\n",
       "    }\n",
       "\n",
       "    .dataframe tbody tr th {\n",
       "        vertical-align: top;\n",
       "    }\n",
       "\n",
       "    .dataframe thead th {\n",
       "        text-align: right;\n",
       "    }\n",
       "</style>\n",
       "<table border=\"1\" class=\"dataframe\">\n",
       "  <thead>\n",
       "    <tr style=\"text-align: right;\">\n",
       "      <th></th>\n",
       "      <th>Unnamed: 0</th>\n",
       "      <th>Genero</th>\n",
       "      <th>Edad</th>\n",
       "      <th>Carrera</th>\n",
       "      <th>Años estudiando</th>\n",
       "      <th>Promedio</th>\n",
       "      <th>Casadx</th>\n",
       "      <th>Depresion</th>\n",
       "      <th>Ansiedad</th>\n",
       "      <th>Panico</th>\n",
       "      <th>Tratamiento</th>\n",
       "    </tr>\n",
       "  </thead>\n",
       "  <tbody>\n",
       "    <tr>\n",
       "      <th>0</th>\n",
       "      <td>0</td>\n",
       "      <td>femenino</td>\n",
       "      <td>18.0</td>\n",
       "      <td>ingenieria ambiental</td>\n",
       "      <td>1 año</td>\n",
       "      <td>14 o más</td>\n",
       "      <td>no</td>\n",
       "      <td>no</td>\n",
       "      <td>no</td>\n",
       "      <td>si</td>\n",
       "      <td>no</td>\n",
       "    </tr>\n",
       "    <tr>\n",
       "      <th>1</th>\n",
       "      <td>1</td>\n",
       "      <td>masculino</td>\n",
       "      <td>21.0</td>\n",
       "      <td>educacion secundaria</td>\n",
       "      <td>2 años</td>\n",
       "      <td>14 o más</td>\n",
       "      <td>no</td>\n",
       "      <td>si</td>\n",
       "      <td>si</td>\n",
       "      <td>no</td>\n",
       "      <td>no</td>\n",
       "    </tr>\n",
       "    <tr>\n",
       "      <th>2</th>\n",
       "      <td>2</td>\n",
       "      <td>masculino</td>\n",
       "      <td>19.0</td>\n",
       "      <td>medicina</td>\n",
       "      <td>1 año</td>\n",
       "      <td>14 o más</td>\n",
       "      <td>no</td>\n",
       "      <td>si</td>\n",
       "      <td>si</td>\n",
       "      <td>si</td>\n",
       "      <td>no</td>\n",
       "    </tr>\n",
       "    <tr>\n",
       "      <th>3</th>\n",
       "      <td>3</td>\n",
       "      <td>femenino</td>\n",
       "      <td>22.0</td>\n",
       "      <td>ingenieria civil</td>\n",
       "      <td>3 años</td>\n",
       "      <td>14 o más</td>\n",
       "      <td>si</td>\n",
       "      <td>no</td>\n",
       "      <td>no</td>\n",
       "      <td>no</td>\n",
       "      <td>no</td>\n",
       "    </tr>\n",
       "    <tr>\n",
       "      <th>4</th>\n",
       "      <td>4</td>\n",
       "      <td>masculino</td>\n",
       "      <td>23.0</td>\n",
       "      <td>economia</td>\n",
       "      <td>4 años</td>\n",
       "      <td>14 o más</td>\n",
       "      <td>no</td>\n",
       "      <td>no</td>\n",
       "      <td>no</td>\n",
       "      <td>no</td>\n",
       "      <td>no</td>\n",
       "    </tr>\n",
       "  </tbody>\n",
       "</table>\n",
       "</div>"
      ],
      "text/plain": [
       "   Unnamed: 0     Genero  Edad               Carrera Años estudiando  \\\n",
       "0           0   femenino  18.0  ingenieria ambiental           1 año   \n",
       "1           1  masculino  21.0  educacion secundaria          2 años   \n",
       "2           2  masculino  19.0              medicina           1 año   \n",
       "3           3   femenino  22.0      ingenieria civil          3 años   \n",
       "4           4  masculino  23.0              economia          4 años   \n",
       "\n",
       "   Promedio Casadx Depresion Ansiedad Panico Tratamiento  \n",
       "0  14 o más     no        no       no     si          no  \n",
       "1  14 o más     no        si       si     no          no  \n",
       "2  14 o más     no        si       si     si          no  \n",
       "3  14 o más     si        no       no     no          no  \n",
       "4  14 o más     no        no       no     no          no  "
      ]
     },
     "execution_count": 4,
     "metadata": {},
     "output_type": "execute_result"
    }
   ],
   "source": [
    "data_undac = pd.read_csv('data_undac_salud_mental.csv')\n",
    "data_undac.head()"
   ]
  },
  {
   "cell_type": "code",
   "execution_count": 19,
   "id": "4ccc1dc4",
   "metadata": {},
   "outputs": [],
   "source": [
    "data_undac = data_undac.drop([\"Unnamed: 0\"],axis = 1)"
   ]
  },
  {
   "cell_type": "code",
   "execution_count": 20,
   "id": "d1073ebe",
   "metadata": {},
   "outputs": [
    {
     "data": {
      "text/html": [
       "<div>\n",
       "<style scoped>\n",
       "    .dataframe tbody tr th:only-of-type {\n",
       "        vertical-align: middle;\n",
       "    }\n",
       "\n",
       "    .dataframe tbody tr th {\n",
       "        vertical-align: top;\n",
       "    }\n",
       "\n",
       "    .dataframe thead th {\n",
       "        text-align: right;\n",
       "    }\n",
       "</style>\n",
       "<table border=\"1\" class=\"dataframe\">\n",
       "  <thead>\n",
       "    <tr style=\"text-align: right;\">\n",
       "      <th></th>\n",
       "      <th>Genero</th>\n",
       "      <th>Edad</th>\n",
       "      <th>Carrera</th>\n",
       "      <th>Años estudiando</th>\n",
       "      <th>Promedio</th>\n",
       "      <th>Casadx</th>\n",
       "      <th>Depresion</th>\n",
       "      <th>Ansiedad</th>\n",
       "      <th>Panico</th>\n",
       "      <th>Tratamiento</th>\n",
       "    </tr>\n",
       "  </thead>\n",
       "  <tbody>\n",
       "    <tr>\n",
       "      <th>0</th>\n",
       "      <td>femenino</td>\n",
       "      <td>18.0</td>\n",
       "      <td>ingenieria ambiental</td>\n",
       "      <td>1 año</td>\n",
       "      <td>14 o más</td>\n",
       "      <td>no</td>\n",
       "      <td>no</td>\n",
       "      <td>no</td>\n",
       "      <td>si</td>\n",
       "      <td>no</td>\n",
       "    </tr>\n",
       "    <tr>\n",
       "      <th>1</th>\n",
       "      <td>masculino</td>\n",
       "      <td>21.0</td>\n",
       "      <td>educacion secundaria</td>\n",
       "      <td>2 años</td>\n",
       "      <td>14 o más</td>\n",
       "      <td>no</td>\n",
       "      <td>si</td>\n",
       "      <td>si</td>\n",
       "      <td>no</td>\n",
       "      <td>no</td>\n",
       "    </tr>\n",
       "    <tr>\n",
       "      <th>2</th>\n",
       "      <td>masculino</td>\n",
       "      <td>19.0</td>\n",
       "      <td>medicina</td>\n",
       "      <td>1 año</td>\n",
       "      <td>14 o más</td>\n",
       "      <td>no</td>\n",
       "      <td>si</td>\n",
       "      <td>si</td>\n",
       "      <td>si</td>\n",
       "      <td>no</td>\n",
       "    </tr>\n",
       "    <tr>\n",
       "      <th>3</th>\n",
       "      <td>femenino</td>\n",
       "      <td>22.0</td>\n",
       "      <td>ingenieria civil</td>\n",
       "      <td>3 años</td>\n",
       "      <td>14 o más</td>\n",
       "      <td>si</td>\n",
       "      <td>no</td>\n",
       "      <td>no</td>\n",
       "      <td>no</td>\n",
       "      <td>no</td>\n",
       "    </tr>\n",
       "    <tr>\n",
       "      <th>4</th>\n",
       "      <td>masculino</td>\n",
       "      <td>23.0</td>\n",
       "      <td>economia</td>\n",
       "      <td>4 años</td>\n",
       "      <td>14 o más</td>\n",
       "      <td>no</td>\n",
       "      <td>no</td>\n",
       "      <td>no</td>\n",
       "      <td>no</td>\n",
       "      <td>no</td>\n",
       "    </tr>\n",
       "  </tbody>\n",
       "</table>\n",
       "</div>"
      ],
      "text/plain": [
       "      Genero  Edad               Carrera Años estudiando  Promedio Casadx  \\\n",
       "0   femenino  18.0  ingenieria ambiental           1 año  14 o más     no   \n",
       "1  masculino  21.0  educacion secundaria          2 años  14 o más     no   \n",
       "2  masculino  19.0              medicina           1 año  14 o más     no   \n",
       "3   femenino  22.0      ingenieria civil          3 años  14 o más     si   \n",
       "4  masculino  23.0              economia          4 años  14 o más     no   \n",
       "\n",
       "  Depresion Ansiedad Panico Tratamiento  \n",
       "0        no       no     si          no  \n",
       "1        si       si     no          no  \n",
       "2        si       si     si          no  \n",
       "3        no       no     no          no  \n",
       "4        no       no     no          no  "
      ]
     },
     "execution_count": 20,
     "metadata": {},
     "output_type": "execute_result"
    }
   ],
   "source": [
    "data_undac.head()"
   ]
  },
  {
   "cell_type": "code",
   "execution_count": 21,
   "id": "71c6bfd9",
   "metadata": {},
   "outputs": [
    {
     "data": {
      "text/plain": [
       "101"
      ]
     },
     "execution_count": 21,
     "metadata": {},
     "output_type": "execute_result"
    }
   ],
   "source": [
    "#numero de columnas\n",
    "len(data_undac.index)"
   ]
  },
  {
   "cell_type": "code",
   "execution_count": 22,
   "id": "66143887",
   "metadata": {},
   "outputs": [
    {
     "data": {
      "text/plain": [
       "Genero             0\n",
       "Edad               1\n",
       "Carrera            0\n",
       "Años estudiando    0\n",
       "Promedio           0\n",
       "Casadx             0\n",
       "Depresion          0\n",
       "Ansiedad           0\n",
       "Panico             0\n",
       "Tratamiento        0\n",
       "dtype: int64"
      ]
     },
     "execution_count": 22,
     "metadata": {},
     "output_type": "execute_result"
    }
   ],
   "source": [
    "#datos nulos o datos \"perdidos\"\n",
    "data_undac.isnull().sum()"
   ]
  },
  {
   "cell_type": "code",
   "execution_count": 23,
   "id": "2711e7ab",
   "metadata": {},
   "outputs": [],
   "source": [
    "#existe un dato nulo en la columna edad así que lo reemplazaremos por la media\n",
    "mean_value = data_undac['Edad'].mean()\n",
    "data_undac['Edad'] = data_undac['Edad'].fillna(value = mean_value)"
   ]
  },
  {
   "cell_type": "code",
   "execution_count": 24,
   "id": "09f962ef",
   "metadata": {},
   "outputs": [
    {
     "data": {
      "text/html": [
       "<div>\n",
       "<style scoped>\n",
       "    .dataframe tbody tr th:only-of-type {\n",
       "        vertical-align: middle;\n",
       "    }\n",
       "\n",
       "    .dataframe tbody tr th {\n",
       "        vertical-align: top;\n",
       "    }\n",
       "\n",
       "    .dataframe thead th {\n",
       "        text-align: right;\n",
       "    }\n",
       "</style>\n",
       "<table border=\"1\" class=\"dataframe\">\n",
       "  <thead>\n",
       "    <tr style=\"text-align: right;\">\n",
       "      <th></th>\n",
       "      <th>Genero</th>\n",
       "      <th>Edad</th>\n",
       "      <th>Carrera</th>\n",
       "      <th>Años estudiando</th>\n",
       "      <th>Promedio</th>\n",
       "      <th>Con pareja</th>\n",
       "      <th>Depresion</th>\n",
       "      <th>Ansiedad</th>\n",
       "      <th>Panico</th>\n",
       "      <th>Tratamiento</th>\n",
       "    </tr>\n",
       "  </thead>\n",
       "  <tbody>\n",
       "    <tr>\n",
       "      <th>0</th>\n",
       "      <td>femenino</td>\n",
       "      <td>18.0</td>\n",
       "      <td>ingenieria ambiental</td>\n",
       "      <td>1 año</td>\n",
       "      <td>14 o más</td>\n",
       "      <td>no</td>\n",
       "      <td>no</td>\n",
       "      <td>no</td>\n",
       "      <td>si</td>\n",
       "      <td>no</td>\n",
       "    </tr>\n",
       "    <tr>\n",
       "      <th>1</th>\n",
       "      <td>masculino</td>\n",
       "      <td>21.0</td>\n",
       "      <td>educacion secundaria</td>\n",
       "      <td>2 años</td>\n",
       "      <td>14 o más</td>\n",
       "      <td>no</td>\n",
       "      <td>si</td>\n",
       "      <td>si</td>\n",
       "      <td>no</td>\n",
       "      <td>no</td>\n",
       "    </tr>\n",
       "    <tr>\n",
       "      <th>2</th>\n",
       "      <td>masculino</td>\n",
       "      <td>19.0</td>\n",
       "      <td>medicina</td>\n",
       "      <td>1 año</td>\n",
       "      <td>14 o más</td>\n",
       "      <td>no</td>\n",
       "      <td>si</td>\n",
       "      <td>si</td>\n",
       "      <td>si</td>\n",
       "      <td>no</td>\n",
       "    </tr>\n",
       "    <tr>\n",
       "      <th>3</th>\n",
       "      <td>femenino</td>\n",
       "      <td>22.0</td>\n",
       "      <td>ingenieria civil</td>\n",
       "      <td>3 años</td>\n",
       "      <td>14 o más</td>\n",
       "      <td>si</td>\n",
       "      <td>no</td>\n",
       "      <td>no</td>\n",
       "      <td>no</td>\n",
       "      <td>no</td>\n",
       "    </tr>\n",
       "    <tr>\n",
       "      <th>4</th>\n",
       "      <td>masculino</td>\n",
       "      <td>23.0</td>\n",
       "      <td>economia</td>\n",
       "      <td>4 años</td>\n",
       "      <td>14 o más</td>\n",
       "      <td>no</td>\n",
       "      <td>no</td>\n",
       "      <td>no</td>\n",
       "      <td>no</td>\n",
       "      <td>no</td>\n",
       "    </tr>\n",
       "  </tbody>\n",
       "</table>\n",
       "</div>"
      ],
      "text/plain": [
       "      Genero  Edad               Carrera Años estudiando  Promedio Con pareja  \\\n",
       "0   femenino  18.0  ingenieria ambiental           1 año  14 o más         no   \n",
       "1  masculino  21.0  educacion secundaria          2 años  14 o más         no   \n",
       "2  masculino  19.0              medicina           1 año  14 o más         no   \n",
       "3   femenino  22.0      ingenieria civil          3 años  14 o más         si   \n",
       "4  masculino  23.0              economia          4 años  14 o más         no   \n",
       "\n",
       "  Depresion Ansiedad Panico Tratamiento  \n",
       "0        no       no     si          no  \n",
       "1        si       si     no          no  \n",
       "2        si       si     si          no  \n",
       "3        no       no     no          no  \n",
       "4        no       no     no          no  "
      ]
     },
     "execution_count": 24,
     "metadata": {},
     "output_type": "execute_result"
    }
   ],
   "source": [
    "#En el apartado de casadx es muy especifico así que lo reemplezaremos por si tiene pareja \n",
    "dict = {'Casadx': 'Con pareja'\n",
    "       }\n",
    "    \n",
    "data_undac.rename(columns = dict, inplace = True)\n",
    "data_undac.head()"
   ]
  },
  {
   "cell_type": "code",
   "execution_count": 27,
   "id": "3d01c4d0",
   "metadata": {},
   "outputs": [
    {
     "data": {
      "image/png": "[encoded data removed]",
      "text/plain": [
       "<Figure size 360x360 with 1 Axes>"
      ]
     },
     "metadata": {
      "needs_background": "light"
     },
     "output_type": "display_data"
    }
   ],
   "source": [
    "sns.catplot(x = 'Con pareja',\n",
    "           kind = 'count',\n",
    "           palette = 'pastel',\n",
    "           edgecolor= '.6',\n",
    "           data = data_undac)\n",
    "data_undac = data_undac.drop('Con pareja',axis = 1 )"
   ]
  },
  {
   "cell_type": "code",
   "execution_count": 28,
   "id": "818011b6",
   "metadata": {},
   "outputs": [
    {
     "data": {
      "text/plain": [
       "ingenieria de sistemas    18\n",
       "ingenieria ambiental      17\n",
       "medicina                  10\n",
       "odontologia                7\n",
       "zootecnia                  7\n",
       "enfermeria                 6\n",
       "derecho                    6\n",
       "economia                   5\n",
       "ingenieria de minas        4\n",
       "ingenieria metalurgica     3\n",
       "administracion             3\n",
       "agronomia                  3\n",
       "educacion primaria         3\n",
       "contabilidad               3\n",
       "ingenieria civil           2\n",
       "educacion secundaria       2\n",
       "educacion inicial          2\n",
       "Name: Carrera, dtype: int64"
      ]
     },
     "execution_count": 28,
     "metadata": {},
     "output_type": "execute_result"
    }
   ],
   "source": [
    "#contaremos la cantidad de estudiantes encuestadas en algunas carreras\n",
    "data_undac['Carrera'].value_counts()"
   ]
  },
  {
   "cell_type": "code",
   "execution_count": 29,
   "id": "76fa3e2e",
   "metadata": {},
   "outputs": [
    {
     "data": {
      "text/plain": [
       "no    95\n",
       "si     6\n",
       "Name: Tratamiento, dtype: int64"
      ]
     },
     "execution_count": 29,
     "metadata": {},
     "output_type": "execute_result"
    }
   ],
   "source": [
    "#contaremos cuantas personas llevan tratamiento\n",
    "data_undac['Tratamiento']. value_counts ()\n",
    "#podemos ver que aprox el 6% de estudiantes llevan tratamiento no tomaremos este dato como consideracion porque ya es muy explicito"
   ]
  },
  {
   "cell_type": "code",
   "execution_count": 32,
   "id": "a7722f6e",
   "metadata": {},
   "outputs": [
    {
     "data": {
      "text/plain": [
       "0      (17.999, 19.0]\n",
       "1        (19.0, 24.0]\n",
       "2      (17.999, 19.0]\n",
       "3        (19.0, 24.0]\n",
       "4        (19.0, 24.0]\n",
       "            ...      \n",
       "96       (19.0, 24.0]\n",
       "97     (17.999, 19.0]\n",
       "98     (17.999, 19.0]\n",
       "99       (19.0, 24.0]\n",
       "100      (19.0, 24.0]\n",
       "Name: Edad, Length: 101, dtype: category\n",
       "Categories (2, interval[float64, right]): [(17.999, 19.0] < (19.0, 24.0]]"
      ]
     },
     "execution_count": 32,
     "metadata": {},
     "output_type": "execute_result"
    },
    {
     "data": {
      "image/png": "[encoded data removed]",
      "text/plain": [
       "<Figure size 360x360 with 1 Axes>"
      ]
     },
     "metadata": {
      "needs_background": "light"
     },
     "output_type": "display_data"
    }
   ],
   "source": [
    "#al momento de encuestar las edades estaban en variable flotante así que está desbalanceado por lo tanto haremos 2 grupos iguales para igualar la data\n",
    "\n",
    "sns.catplot (x = 'Edad',\n",
    "            kind = 'count',\n",
    "            palette = 'husl',\n",
    "            edgecolor = '.6',\n",
    "            data = data_undac)\n",
    "pd.qcut(data_undac['Edad'], q=2)"
   ]
  },
  {
   "cell_type": "markdown",
   "id": "acdb6a76",
   "metadata": {},
   "source": [
    "### Gráficaremos cual es la mayor cantidad de años en las que los estudiantes están en la universidad "
   ]
  },
  {
   "cell_type": "code",
   "execution_count": 34,
   "id": "44c4d432",
   "metadata": {},
   "outputs": [
    {
     "data": {
      "text/plain": [
       "<seaborn.axisgrid.FacetGrid at 0x1aac7598b20>"
      ]
     },
     "execution_count": 34,
     "metadata": {},
     "output_type": "execute_result"
    },
    {
     "data": {
      "image/png": "[encoded data removed]",
      "text/plain": [
       "<Figure size 360x360 with 1 Axes>"
      ]
     },
     "metadata": {
      "needs_background": "light"
     },
     "output_type": "display_data"
    }
   ],
   "source": [
    "sns.catplot(x = 'Años estudiando',\n",
    "           kind = 'count',\n",
    "           palette = 'Set2',\n",
    "           edgecolor = '.6',\n",
    "           data = data_undac)"
   ]
  },
  {
   "cell_type": "code",
   "execution_count": 38,
   "id": "59a80428",
   "metadata": {},
   "outputs": [],
   "source": [
    "#para un mejor análisis agregaremos una columna más en la cual se sume cuantas enfermedades mentales tiene cada estudiante en caso las tenga\n",
    "def cualquier_problema_mental (row):\n",
    "    puntos = 0\n",
    "    if row['Depresion'] == 'si':\n",
    "        puntos +=1\n",
    "    if row['Ansiedad'] == 'si':\n",
    "        puntos +=1\n",
    "    if row['Panico'] == 'si':\n",
    "        puntos +=1\n",
    "    return puntos"
   ]
  },
  {
   "cell_type": "code",
   "execution_count": 40,
   "id": "557aac70",
   "metadata": {},
   "outputs": [],
   "source": [
    "data_undac ['Problemas con la salud mental'] = data_undac.apply(lambda row: cualquier_problema_mental(row), axis = 1)"
   ]
  },
  {
   "cell_type": "code",
   "execution_count": 41,
   "id": "81c0944c",
   "metadata": {},
   "outputs": [
    {
     "data": {
      "text/html": [
       "<div>\n",
       "<style scoped>\n",
       "    .dataframe tbody tr th:only-of-type {\n",
       "        vertical-align: middle;\n",
       "    }\n",
       "\n",
       "    .dataframe tbody tr th {\n",
       "        vertical-align: top;\n",
       "    }\n",
       "\n",
       "    .dataframe thead th {\n",
       "        text-align: right;\n",
       "    }\n",
       "</style>\n",
       "<table border=\"1\" class=\"dataframe\">\n",
       "  <thead>\n",
       "    <tr style=\"text-align: right;\">\n",
       "      <th></th>\n",
       "      <th>Genero</th>\n",
       "      <th>Edad</th>\n",
       "      <th>Carrera</th>\n",
       "      <th>Años estudiando</th>\n",
       "      <th>Promedio</th>\n",
       "      <th>Depresion</th>\n",
       "      <th>Ansiedad</th>\n",
       "      <th>Panico</th>\n",
       "      <th>Tratamiento</th>\n",
       "      <th>Problemas con la salud mental</th>\n",
       "    </tr>\n",
       "  </thead>\n",
       "  <tbody>\n",
       "    <tr>\n",
       "      <th>0</th>\n",
       "      <td>femenino</td>\n",
       "      <td>18.0</td>\n",
       "      <td>ingenieria ambiental</td>\n",
       "      <td>1 año</td>\n",
       "      <td>14 o más</td>\n",
       "      <td>no</td>\n",
       "      <td>no</td>\n",
       "      <td>si</td>\n",
       "      <td>no</td>\n",
       "      <td>1</td>\n",
       "    </tr>\n",
       "    <tr>\n",
       "      <th>1</th>\n",
       "      <td>masculino</td>\n",
       "      <td>21.0</td>\n",
       "      <td>educacion secundaria</td>\n",
       "      <td>2 años</td>\n",
       "      <td>14 o más</td>\n",
       "      <td>si</td>\n",
       "      <td>si</td>\n",
       "      <td>no</td>\n",
       "      <td>no</td>\n",
       "      <td>2</td>\n",
       "    </tr>\n",
       "    <tr>\n",
       "      <th>2</th>\n",
       "      <td>masculino</td>\n",
       "      <td>19.0</td>\n",
       "      <td>medicina</td>\n",
       "      <td>1 año</td>\n",
       "      <td>14 o más</td>\n",
       "      <td>si</td>\n",
       "      <td>si</td>\n",
       "      <td>si</td>\n",
       "      <td>no</td>\n",
       "      <td>3</td>\n",
       "    </tr>\n",
       "    <tr>\n",
       "      <th>3</th>\n",
       "      <td>femenino</td>\n",
       "      <td>22.0</td>\n",
       "      <td>ingenieria civil</td>\n",
       "      <td>3 años</td>\n",
       "      <td>14 o más</td>\n",
       "      <td>no</td>\n",
       "      <td>no</td>\n",
       "      <td>no</td>\n",
       "      <td>no</td>\n",
       "      <td>0</td>\n",
       "    </tr>\n",
       "    <tr>\n",
       "      <th>4</th>\n",
       "      <td>masculino</td>\n",
       "      <td>23.0</td>\n",
       "      <td>economia</td>\n",
       "      <td>4 años</td>\n",
       "      <td>14 o más</td>\n",
       "      <td>no</td>\n",
       "      <td>no</td>\n",
       "      <td>no</td>\n",
       "      <td>no</td>\n",
       "      <td>0</td>\n",
       "    </tr>\n",
       "  </tbody>\n",
       "</table>\n",
       "</div>"
      ],
      "text/plain": [
       "      Genero  Edad               Carrera Años estudiando  Promedio Depresion  \\\n",
       "0   femenino  18.0  ingenieria ambiental           1 año  14 o más        no   \n",
       "1  masculino  21.0  educacion secundaria          2 años  14 o más        si   \n",
       "2  masculino  19.0              medicina           1 año  14 o más        si   \n",
       "3   femenino  22.0      ingenieria civil          3 años  14 o más        no   \n",
       "4  masculino  23.0              economia          4 años  14 o más        no   \n",
       "\n",
       "  Ansiedad Panico Tratamiento  Problemas con la salud mental  \n",
       "0       no     si          no                              1  \n",
       "1       si     no          no                              2  \n",
       "2       si     si          no                              3  \n",
       "3       no     no          no                              0  \n",
       "4       no     no          no                              0  "
      ]
     },
     "execution_count": 41,
     "metadata": {},
     "output_type": "execute_result"
    }
   ],
   "source": [
    "#Una vez hecha la correción de datos ahora exploraremos estos\n",
    "data_undac.head()"
   ]
  },
  {
   "cell_type": "code",
   "execution_count": 42,
   "id": "c912fdcd",
   "metadata": {},
   "outputs": [
    {
     "data": {
      "text/plain": [
       "<seaborn.axisgrid.FacetGrid at 0x1aac752a1c0>"
      ]
     },
     "execution_count": 42,
     "metadata": {},
     "output_type": "execute_result"
    },
    {
     "data": {
      "image/png": "[encoded data removed]",
      "text/plain": [
       "<Figure size 360x360 with 1 Axes>"
      ]
     },
     "metadata": {
      "needs_background": "light"
     },
     "output_type": "display_data"
    }
   ],
   "source": [
    "sns.catplot(x='Problemas con la salud mental',\n",
    "           kind = 'count',\n",
    "           palette ='pastel',\n",
    "           edgecolor = '.6',\n",
    "           data = data_undac)\n",
    "#Podemos ver que más de un tercio de los estudientes no tienen ningun problema con la salud mental mientras que poco\n",
    "#menos de un tercio alrededor de un 24% tienen entre 2 o 3 problemas se podría conseguir la diferencie de entre 1% y 3% si separamos mujeres y hombres\n",
    "\n"
   ]
  },
  {
   "cell_type": "code",
   "execution_count": 44,
   "id": "35246a02",
   "metadata": {},
   "outputs": [
    {
     "data": {
      "text/html": [
       "<div>\n",
       "<style scoped>\n",
       "    .dataframe tbody tr th:only-of-type {\n",
       "        vertical-align: middle;\n",
       "    }\n",
       "\n",
       "    .dataframe tbody tr th {\n",
       "        vertical-align: top;\n",
       "    }\n",
       "\n",
       "    .dataframe thead th {\n",
       "        text-align: right;\n",
       "    }\n",
       "</style>\n",
       "<table border=\"1\" class=\"dataframe\">\n",
       "  <thead>\n",
       "    <tr style=\"text-align: right;\">\n",
       "      <th>Problemas con la salud mental</th>\n",
       "      <th>0</th>\n",
       "      <th>1</th>\n",
       "      <th>2</th>\n",
       "      <th>3</th>\n",
       "    </tr>\n",
       "    <tr>\n",
       "      <th>Genero</th>\n",
       "      <th></th>\n",
       "      <th></th>\n",
       "      <th></th>\n",
       "      <th></th>\n",
       "    </tr>\n",
       "  </thead>\n",
       "  <tbody>\n",
       "    <tr>\n",
       "      <th>femenino</th>\n",
       "      <td>0.480000</td>\n",
       "      <td>0.200000</td>\n",
       "      <td>0.186667</td>\n",
       "      <td>0.133333</td>\n",
       "    </tr>\n",
       "    <tr>\n",
       "      <th>masculino</th>\n",
       "      <td>0.423077</td>\n",
       "      <td>0.192308</td>\n",
       "      <td>0.269231</td>\n",
       "      <td>0.115385</td>\n",
       "    </tr>\n",
       "    <tr>\n",
       "      <th>All</th>\n",
       "      <td>0.465347</td>\n",
       "      <td>0.198020</td>\n",
       "      <td>0.207921</td>\n",
       "      <td>0.128713</td>\n",
       "    </tr>\n",
       "  </tbody>\n",
       "</table>\n",
       "</div>"
      ],
      "text/plain": [
       "Problemas con la salud mental         0         1         2         3\n",
       "Genero                                                               \n",
       "femenino                       0.480000  0.200000  0.186667  0.133333\n",
       "masculino                      0.423077  0.192308  0.269231  0.115385\n",
       "All                            0.465347  0.198020  0.207921  0.128713"
      ]
     },
     "execution_count": 44,
     "metadata": {},
     "output_type": "execute_result"
    }
   ],
   "source": [
    "pd.crosstab (data_undac['Genero'],\n",
    "            data_undac['Problemas con la salud mental'],\n",
    "            normalize = 'index',\n",
    "            margins = True)\n",
    "#vemos lo dicho que ligeramente en ciertos casos los hombres como las mujeres se superan en cantidad "
   ]
  },
  {
   "cell_type": "code",
   "execution_count": 56,
   "id": "0d751f9e",
   "metadata": {},
   "outputs": [
    {
     "data": {
      "text/plain": [
       "13            48\n",
       "14 o más      43\n",
       "11             4\n",
       "10 o menos     4\n",
       "12             2\n",
       "Name: Promedio, dtype: int64"
      ]
     },
     "execution_count": 56,
     "metadata": {},
     "output_type": "execute_result"
    }
   ],
   "source": [
    "data_undac ['Promedio'].value_counts()\n",
    "#vemos si el promedio afecta  primero lo contamos "
   ]
  },
  {
   "cell_type": "code",
   "execution_count": 59,
   "id": "03746f55",
   "metadata": {},
   "outputs": [
    {
     "data": {
      "text/plain": [
       "<seaborn.axisgrid.FacetGrid at 0x1aac8623be0>"
      ]
     },
     "execution_count": 59,
     "metadata": {},
     "output_type": "execute_result"
    },
    {
     "data": {
      "image/png": "[encoded data removed]",
      "text/plain": [
       "<Figure size 360x360 with 1 Axes>"
      ]
     },
     "metadata": {
      "needs_background": "light"
     },
     "output_type": "display_data"
    }
   ],
   "source": [
    "sns.catplot(x='Promedio',\n",
    "           kind='count',\n",
    "           palette= 'Set2',\n",
    "           edgecolor ='.8',\n",
    "           order = ['12','13','14 o más'],\n",
    "           data = data_undac)\n",
    "#vemos que hay una gran cantidad de alumnos que se encuentran entre los más sanos y los que tienen más problemas con las notas más altas\n"
   ]
  },
  {
   "cell_type": "code",
   "execution_count": 61,
   "id": "634e2817",
   "metadata": {},
   "outputs": [
    {
     "data": {
      "text/html": [
       "<div>\n",
       "<style scoped>\n",
       "    .dataframe tbody tr th:only-of-type {\n",
       "        vertical-align: middle;\n",
       "    }\n",
       "\n",
       "    .dataframe tbody tr th {\n",
       "        vertical-align: top;\n",
       "    }\n",
       "\n",
       "    .dataframe thead th {\n",
       "        text-align: right;\n",
       "    }\n",
       "</style>\n",
       "<table border=\"1\" class=\"dataframe\">\n",
       "  <thead>\n",
       "    <tr style=\"text-align: right;\">\n",
       "      <th>Problemas con la salud mental</th>\n",
       "      <th>0</th>\n",
       "      <th>1</th>\n",
       "      <th>2</th>\n",
       "      <th>3</th>\n",
       "    </tr>\n",
       "    <tr>\n",
       "      <th>Promedio</th>\n",
       "      <th></th>\n",
       "      <th></th>\n",
       "      <th></th>\n",
       "      <th></th>\n",
       "    </tr>\n",
       "  </thead>\n",
       "  <tbody>\n",
       "    <tr>\n",
       "      <th>10 o menos</th>\n",
       "      <td>0.750000</td>\n",
       "      <td>0.250000</td>\n",
       "      <td>0.000000</td>\n",
       "      <td>0.000000</td>\n",
       "    </tr>\n",
       "    <tr>\n",
       "      <th>11</th>\n",
       "      <td>0.250000</td>\n",
       "      <td>0.500000</td>\n",
       "      <td>0.000000</td>\n",
       "      <td>0.250000</td>\n",
       "    </tr>\n",
       "    <tr>\n",
       "      <th>12</th>\n",
       "      <td>0.500000</td>\n",
       "      <td>0.500000</td>\n",
       "      <td>0.000000</td>\n",
       "      <td>0.000000</td>\n",
       "    </tr>\n",
       "    <tr>\n",
       "      <th>13</th>\n",
       "      <td>0.395833</td>\n",
       "      <td>0.229167</td>\n",
       "      <td>0.208333</td>\n",
       "      <td>0.166667</td>\n",
       "    </tr>\n",
       "    <tr>\n",
       "      <th>14 o más</th>\n",
       "      <td>0.534884</td>\n",
       "      <td>0.116279</td>\n",
       "      <td>0.255814</td>\n",
       "      <td>0.093023</td>\n",
       "    </tr>\n",
       "    <tr>\n",
       "      <th>All</th>\n",
       "      <td>0.465347</td>\n",
       "      <td>0.198020</td>\n",
       "      <td>0.207921</td>\n",
       "      <td>0.128713</td>\n",
       "    </tr>\n",
       "  </tbody>\n",
       "</table>\n",
       "</div>"
      ],
      "text/plain": [
       "Problemas con la salud mental         0         1         2         3\n",
       "Promedio                                                             \n",
       "10 o menos                     0.750000  0.250000  0.000000  0.000000\n",
       "11                             0.250000  0.500000  0.000000  0.250000\n",
       "12                             0.500000  0.500000  0.000000  0.000000\n",
       "13                             0.395833  0.229167  0.208333  0.166667\n",
       "14 o más                       0.534884  0.116279  0.255814  0.093023\n",
       "All                            0.465347  0.198020  0.207921  0.128713"
      ]
     },
     "execution_count": 61,
     "metadata": {},
     "output_type": "execute_result"
    }
   ],
   "source": [
    "pd.crosstab(data_undac['Promedio'],\n",
    "           data_undac ['Problemas con la salud mental'],\n",
    "           normalize = 'index',\n",
    "           margins = True)"
   ]
  },
  {
   "cell_type": "code",
   "execution_count": 63,
   "id": "a5df775a",
   "metadata": {},
   "outputs": [
    {
     "data": {
      "text/plain": [
       "<seaborn.axisgrid.FacetGrid at 0x1aac88a4c70>"
      ]
     },
     "execution_count": 63,
     "metadata": {},
     "output_type": "execute_result"
    },
    {
     "data": {
      "image/png": "[encoded data removed]",
      "text/plain": [
       "<Figure size 521.375x360 with 1 Axes>"
      ]
     },
     "metadata": {
      "needs_background": "light"
     },
     "output_type": "display_data"
    }
   ],
   "source": [
    "sns.catplot(x = 'Años estudiando',\n",
    "           hue = 'Problemas con la salud mental',\n",
    "           kind = 'count',\n",
    "           palette = 'Set1',\n",
    "           edgecolor = '.8',\n",
    "           data = data_undac)\n",
    "#mientras que no encotrabamos relación entre los problemas de salud mental con el promedio podemos ver que si hay problemas mientras más tiempo estás en la universidad\n",
    "#asi que haremos para cada enfermedad mental cuestionada "
   ]
  },
  {
   "cell_type": "code",
   "execution_count": 64,
   "id": "338210cf",
   "metadata": {},
   "outputs": [
    {
     "data": {
      "text/plain": [
       "<seaborn.axisgrid.FacetGrid at 0x1aac88a4b80>"
      ]
     },
     "execution_count": 64,
     "metadata": {},
     "output_type": "execute_result"
    },
    {
     "data": {
      "image/png": "[encoded data removed]",
      "text/plain": [
       "<Figure size 414.375x360 with 1 Axes>"
      ]
     },
     "metadata": {
      "needs_background": "light"
     },
     "output_type": "display_data"
    }
   ],
   "source": [
    "sns.catplot(x = 'Años estudiando',\n",
    "           hue = 'Ansiedad',\n",
    "           kind = 'count',\n",
    "           palette = 'Set1',\n",
    "           edgecolor = '.8',\n",
    "           data = data_undac)"
   ]
  },
  {
   "cell_type": "code",
   "execution_count": 65,
   "id": "2bcd96cf",
   "metadata": {},
   "outputs": [
    {
     "data": {
      "text/plain": [
       "<seaborn.axisgrid.FacetGrid at 0x1aac88a4e20>"
      ]
     },
     "execution_count": 65,
     "metadata": {},
     "output_type": "execute_result"
    },
    {
     "data": {
      "image/png": "[encoded data removed]",
      "text/plain": [
       "<Figure size 418.625x360 with 1 Axes>"
      ]
     },
     "metadata": {
      "needs_background": "light"
     },
     "output_type": "display_data"
    }
   ],
   "source": [
    "sns.catplot(x = 'Años estudiando',\n",
    "           hue = 'Depresion',\n",
    "           kind = 'count',\n",
    "           palette = 'Set1',\n",
    "           edgecolor = '.8',\n",
    "           data = data_undac)"
   ]
  },
  {
   "cell_type": "code",
   "execution_count": 67,
   "id": "54cf9ed1",
   "metadata": {},
   "outputs": [
    {
     "data": {
      "text/plain": [
       "<seaborn.axisgrid.FacetGrid at 0x1aac88a4f40>"
      ]
     },
     "execution_count": 67,
     "metadata": {},
     "output_type": "execute_result"
    },
    {
     "data": {
      "image/png": "[encoded data removed]",
      "text/plain": [
       "<Figure size 408.375x360 with 1 Axes>"
      ]
     },
     "metadata": {
      "needs_background": "light"
     },
     "output_type": "display_data"
    }
   ],
   "source": [
    "sns.catplot(x = 'Años estudiando',\n",
    "           hue = 'Panico',\n",
    "           kind = 'count',\n",
    "           palette = 'Set1',\n",
    "           edgecolor = '.8',\n",
    "           data = data_undac)"
   ]
  }
 ],
 "metadata": {
  "kernelspec": {
   "display_name": "Python 3 (ipykernel)",
   "language": "python",
   "name": "python3"
  },
  "language_info": {
   "codemirror_mode": {
    "name": "ipython",
    "version": 3
   },
   "file_extension": ".py",
   "mimetype": "text/x-python",
   "name": "python",
   "nbconvert_exporter": "python",
   "pygments_lexer": "ipython3",
   "version": "3.9.12"
  }
 },
 "nbformat": 4,
 "nbformat_minor": 5
}
